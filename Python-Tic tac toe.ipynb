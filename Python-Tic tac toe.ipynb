{
 "cells": [
  {
   "cell_type": "code",
   "execution_count": 1,
   "metadata": {
    "collapsed": true
   },
   "outputs": [],
   "source": [
    "from IPython.display import clear_output\n",
    "def display_board(board):\n",
    "    clear_output()\n",
    "    print('   |   |')\n",
    "    print(' ' + board[7] + ' | ' + board[8] + ' | ' + board[9])\n",
    "    print('   |   |')\n",
    "    print('-----------')\n",
    "    print('   |   |')\n",
    "    print(' ' + board[4] + ' | ' + board[5] + ' | ' + board[6])\n",
    "    print('   |   |')\n",
    "    print('-----------')\n",
    "    print('   |   |')\n",
    "    print(' ' + board[1] + ' | ' + board[2] + ' | ' + board[3])\n",
    "    print('   |   |')"
   ]
  },
  {
   "cell_type": "code",
   "execution_count": 2,
   "metadata": {
    "collapsed": true
   },
   "outputs": [],
   "source": [
    "def player_input():\n",
    "    \n",
    "    print('Choose your mark: X or O')\n",
    "\n",
    "    mark = input()\n",
    "    while mark != 'X' and mark != 'O':\n",
    "        player_input()\n",
    "    else:\n",
    "        return mark"
   ]
  },
  {
   "cell_type": "code",
   "execution_count": 3,
   "metadata": {},
   "outputs": [],
   "source": [
    "def place_marker(board, marker, position):\n",
    "    \n",
    "    board[position] = marker\n",
    "    display_board(board)"
   ]
  },
  {
   "cell_type": "code",
   "execution_count": 4,
   "metadata": {
    "collapsed": true
   },
   "outputs": [],
   "source": [
    "def win_check(board,mark):\n",
    "    if board[1] == board[2] == board[3] == mark:\n",
    "        print('Player 1 wins')\n",
    "        return True\n",
    "    elif board[4] == board[5] == board[6] == mark:\n",
    "        print('Player 1 wins')\n",
    "        return True\n",
    "    elif board[7] == board[8] == board[9] == mark:\n",
    "        print('Player 1 wins')\n",
    "        return True\n",
    "    elif board[1] == board[4] == board[7] == mark:\n",
    "        print('Player 1 wins')\n",
    "        return True\n",
    "    elif board[2] == board[5] == board[8] == mark:\n",
    "        print('Player 1 wins')\n",
    "        return True\n",
    "    elif board[3] == board[6] == board[9] == mark:\n",
    "        print('Player 1 wins')\n",
    "        return True\n",
    "    elif board[7] == board[5] == board[3] == mark:\n",
    "        print('Player 1 wins')\n",
    "        return True\n",
    "    elif board[9] == board[5] == board[1] == mark:\n",
    "        print('Player 1 wins')\n",
    "        return True\n",
    "    else:\n",
    "        return False"
   ]
  },
  {
   "cell_type": "code",
   "execution_count": 5,
   "metadata": {
    "collapsed": true
   },
   "outputs": [],
   "source": [
    "import random\n",
    "def choose_first():\n",
    "    player = random.randint(0,1)\n",
    "    \n",
    "    if player == 0:\n",
    "        return 'p1'\n",
    "    else:\n",
    "        return 'p2'"
   ]
  },
  {
   "cell_type": "code",
   "execution_count": 6,
   "metadata": {
    "collapsed": true
   },
   "outputs": [],
   "source": [
    "def space_check(board, position):\n",
    "    if board[position] == ' ':\n",
    "        return True\n",
    "    else:\n",
    "        return False"
   ]
  },
  {
   "cell_type": "code",
   "execution_count": 7,
   "metadata": {
    "collapsed": true
   },
   "outputs": [],
   "source": [
    "def full_board_check(board):\n",
    "    isFull = []\n",
    "    for i in board:\n",
    "        if i == 'X' or i == 'O':\n",
    "            isFull.append(True)\n",
    "        else:\n",
    "            isFull.append(False)\n",
    "            \n",
    "    if set(isFull) == {True}:\n",
    "        print('GAME OVER')\n",
    "        return True\n",
    "    else:\n",
    "        return False"
   ]
  },
  {
   "cell_type": "code",
   "execution_count": 8,
   "metadata": {
    "collapsed": true
   },
   "outputs": [],
   "source": [
    "def player_choice(board):\n",
    "    print('Select your position')\n",
    "    return int(input())"
   ]
  },
  {
   "cell_type": "code",
   "execution_count": 9,
   "metadata": {
    "collapsed": true
   },
   "outputs": [],
   "source": [
    "def replay():\n",
    "    print('Play again?')\n",
    "    \n",
    "    value = input()\n",
    "    \n",
    "    if value == 'yes':\n",
    "        return True\n",
    "    else:\n",
    "        return False"
   ]
  },
  {
   "cell_type": "code",
   "execution_count": null,
   "metadata": {},
   "outputs": [
    {
     "name": "stdout",
     "output_type": "stream",
     "text": [
      "   |   |\n",
      " X |   |  \n",
      "   |   |\n",
      "-----------\n",
      "   |   |\n",
      "   | X | O\n",
      "   |   |\n",
      "-----------\n",
      "   |   |\n",
      " O | O | X\n",
      "   |   |\n",
      "Player 1 wins\n",
      "Play again?\n",
      "no\n",
      "Player 2, it is your turn\n",
      "Please enter a value between 1-9\n"
     ]
    }
   ],
   "source": [
    "print('Welcome to Tic Tac Toe!')\n",
    "\n",
    "while True:\n",
    "    \n",
    "    board = [' '] * 10\n",
    "    \n",
    "    p1 = {'turn': False, 'marker': ''}\n",
    "    p2 = {'turn': False, 'marker': ''}\n",
    "\n",
    "    if choose_first() == 'p1':\n",
    "        print('Player 1 starts')\n",
    "        p1['turn'] = True\n",
    "        p1['marker'] = player_input()\n",
    "\n",
    "        if p1['marker'] == 'X':\n",
    "            p2['marker'] = 'O'\n",
    "        elif p1['marker'] == 'O':\n",
    "            p2['marker'] = 'X'\n",
    "    else:\n",
    "        print('Player 2 starts')\n",
    "        p2['turn'] = True\n",
    "        p2['marker'] = player_input()\n",
    "\n",
    "        if p2['marker'] == 'X':\n",
    "            p1['marker'] = 'O'\n",
    "        elif p2['marker'] == 'O':\n",
    "            p1['marker'] = 'X'\n",
    "\n",
    "    game_on = True\n",
    "    \n",
    "    def continue_game(mark):\n",
    "        \n",
    "        print('Please enter a value between 1-9')\n",
    "        position = int(input())\n",
    "        \n",
    "        if position in range(1, 9):\n",
    "            \n",
    "            if space_check(board, position) == True:\n",
    "                place_marker(board, mark, position)\n",
    "            else:\n",
    "                print('Space already contains %s' %board[position])\n",
    "                player_choice(board)\n",
    "        else:\n",
    "            print('Invalid input, please enter a value between 1-9')\n",
    "            position = int(input())\n",
    "    \n",
    "    while game_on:\n",
    "        \n",
    "        if p1['turn'] == True:\n",
    "            print('Player 1, it is your turn')\n",
    "            p1['turn'] = False\n",
    "            p2['turn'] = True\n",
    "            continue_game(p1['marker'])\n",
    "            \n",
    "            if win_check(board, p1['marker']) == True:\n",
    "                replay()\n",
    "                \n",
    "        elif p2['turn'] == True:\n",
    "            print('Player 2, it is your turn')\n",
    "            p1['turn'] = True\n",
    "            p2['turn'] = False\n",
    "            continue_game(p2['marker'])\n",
    "            \n",
    "            if win_check(board, p2['marker']) == True:\n",
    "                if replay() == True:\n",
    "                    print('Play again?')\n",
    "                else:\n",
    "                    game_on = False\n",
    "                    break\n",
    "\n",
    "    while full_board_check(board):\n",
    "\n",
    "        if not replay():\n",
    "            print('END')\n",
    "            break\n",
    "    else:\n",
    "        print('Thank you for playing Tic Tac Toe made with Python')"
   ]
  },
  {
   "cell_type": "code",
   "execution_count": null,
   "metadata": {
    "collapsed": true
   },
   "outputs": [],
   "source": []
  },
  {
   "cell_type": "markdown",
   "metadata": {
    "collapsed": true
   },
   "source": [
    "## "
   ]
  },
  {
   "cell_type": "code",
   "execution_count": null,
   "metadata": {
    "collapsed": true
   },
   "outputs": [],
   "source": []
  },
  {
   "cell_type": "code",
   "execution_count": null,
   "metadata": {
    "collapsed": true
   },
   "outputs": [],
   "source": []
  },
  {
   "cell_type": "code",
   "execution_count": null,
   "metadata": {
    "collapsed": true
   },
   "outputs": [],
   "source": []
  },
  {
   "cell_type": "markdown",
   "metadata": {
    "collapsed": true
   },
   "source": [
    "## "
   ]
  }
 ],
 "metadata": {
  "kernelspec": {
   "display_name": "Python 3",
   "language": "python",
   "name": "python3"
  },
  "language_info": {
   "codemirror_mode": {
    "name": "ipython",
    "version": 3
   },
   "file_extension": ".py",
   "mimetype": "text/x-python",
   "name": "python",
   "nbconvert_exporter": "python",
   "pygments_lexer": "ipython3",
   "version": "3.6.3"
  }
 },
 "nbformat": 4,
 "nbformat_minor": 2
}
